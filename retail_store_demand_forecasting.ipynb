{
  "cells": [
    {
      "cell_type": "code",
      "execution_count": null,
      "id": "e470b177",
      "metadata": {
        "_cell_guid": "b1076dfc-b9ad-4769-8c92-a6c4dae69d19",
        "_uuid": "8f2839f25d086af736a60e9eeb907d3b93b6e0e5",
        "execution": {
          "iopub.execute_input": "2025-01-30T11:56:42.952449Z",
          "iopub.status.busy": "2025-01-30T11:56:42.952090Z",
          "iopub.status.idle": "2025-01-30T11:56:45.706429Z",
          "shell.execute_reply": "2025-01-30T11:56:45.705600Z"
        },
        "papermill": {
          "duration": 2.764485,
          "end_time": "2025-01-30T11:56:45.708223",
          "exception": false,
          "start_time": "2025-01-30T11:56:42.943738",
          "status": "completed"
        },
        "tags": [],
        "id": "e470b177"
      },
      "outputs": [],
      "source": [
        "import pandas as pd\n",
        "import numpy as np\n",
        "import matplotlib.pyplot as plt\n",
        "import seaborn as sns\n",
        "from sklearn.model_selection import train_test_split\n",
        "from sklearn.preprocessing import LabelEncoder,StandardScaler\n",
        "from sklearn.metrics import r2_score,mean_squared_error,mean_absolute_error\n",
        "from sklearn.linear_model import LinearRegression"
      ]
    },
    {
      "cell_type": "markdown",
      "id": "df8765e3",
      "metadata": {
        "papermill": {
          "duration": 0.004721,
          "end_time": "2025-01-30T11:56:45.718480",
          "exception": false,
          "start_time": "2025-01-30T11:56:45.713759",
          "status": "completed"
        },
        "tags": [],
        "id": "df8765e3"
      },
      "source": [
        "# Load Dataset"
      ]
    },
    {
      "cell_type": "code",
      "execution_count": null,
      "id": "80e29a5d",
      "metadata": {
        "execution": {
          "iopub.execute_input": "2025-01-30T11:56:45.730009Z",
          "iopub.status.busy": "2025-01-30T11:56:45.729534Z",
          "iopub.status.idle": "2025-01-30T11:56:45.971504Z",
          "shell.execute_reply": "2025-01-30T11:56:45.970454Z"
        },
        "papermill": {
          "duration": 0.249631,
          "end_time": "2025-01-30T11:56:45.973288",
          "exception": false,
          "start_time": "2025-01-30T11:56:45.723657",
          "status": "completed"
        },
        "tags": [],
        "id": "80e29a5d"
      },
      "outputs": [],
      "source": [
        "data=pd.read_csv('/content/retail_store_inventory.csv')"
      ]
    },
    {
      "cell_type": "code",
      "execution_count": null,
      "id": "0da61ad9",
      "metadata": {
        "execution": {
          "iopub.execute_input": "2025-01-30T11:56:45.984784Z",
          "iopub.status.busy": "2025-01-30T11:56:45.984462Z",
          "iopub.status.idle": "2025-01-30T11:56:46.010740Z",
          "shell.execute_reply": "2025-01-30T11:56:46.009768Z"
        },
        "papermill": {
          "duration": 0.033579,
          "end_time": "2025-01-30T11:56:46.012233",
          "exception": false,
          "start_time": "2025-01-30T11:56:45.978654",
          "status": "completed"
        },
        "tags": [],
        "id": "0da61ad9",
        "outputId": "ea3bc2e8-de1a-454d-c892-6aee1a0ed54e"
      },
      "outputs": [
        {
          "data": {
            "text/html": [
              "<div>\n",
              "<style scoped>\n",
              "    .dataframe tbody tr th:only-of-type {\n",
              "        vertical-align: middle;\n",
              "    }\n",
              "\n",
              "    .dataframe tbody tr th {\n",
              "        vertical-align: top;\n",
              "    }\n",
              "\n",
              "    .dataframe thead th {\n",
              "        text-align: right;\n",
              "    }\n",
              "</style>\n",
              "<table border=\"1\" class=\"dataframe\">\n",
              "  <thead>\n",
              "    <tr style=\"text-align: right;\">\n",
              "      <th></th>\n",
              "      <th>Date</th>\n",
              "      <th>Store ID</th>\n",
              "      <th>Product ID</th>\n",
              "      <th>Category</th>\n",
              "      <th>Region</th>\n",
              "      <th>Inventory Level</th>\n",
              "      <th>Units Sold</th>\n",
              "      <th>Units Ordered</th>\n",
              "      <th>Demand Forecast</th>\n",
              "      <th>Price</th>\n",
              "      <th>Discount</th>\n",
              "      <th>Weather Condition</th>\n",
              "      <th>Holiday/Promotion</th>\n",
              "      <th>Competitor Pricing</th>\n",
              "      <th>Seasonality</th>\n",
              "    </tr>\n",
              "  </thead>\n",
              "  <tbody>\n",
              "    <tr>\n",
              "      <th>0</th>\n",
              "      <td>2022-01-01</td>\n",
              "      <td>S001</td>\n",
              "      <td>P0001</td>\n",
              "      <td>Groceries</td>\n",
              "      <td>North</td>\n",
              "      <td>231</td>\n",
              "      <td>127</td>\n",
              "      <td>55</td>\n",
              "      <td>135.47</td>\n",
              "      <td>33.50</td>\n",
              "      <td>20</td>\n",
              "      <td>Rainy</td>\n",
              "      <td>0</td>\n",
              "      <td>29.69</td>\n",
              "      <td>Autumn</td>\n",
              "    </tr>\n",
              "    <tr>\n",
              "      <th>1</th>\n",
              "      <td>2022-01-01</td>\n",
              "      <td>S001</td>\n",
              "      <td>P0002</td>\n",
              "      <td>Toys</td>\n",
              "      <td>South</td>\n",
              "      <td>204</td>\n",
              "      <td>150</td>\n",
              "      <td>66</td>\n",
              "      <td>144.04</td>\n",
              "      <td>63.01</td>\n",
              "      <td>20</td>\n",
              "      <td>Sunny</td>\n",
              "      <td>0</td>\n",
              "      <td>66.16</td>\n",
              "      <td>Autumn</td>\n",
              "    </tr>\n",
              "    <tr>\n",
              "      <th>2</th>\n",
              "      <td>2022-01-01</td>\n",
              "      <td>S001</td>\n",
              "      <td>P0003</td>\n",
              "      <td>Toys</td>\n",
              "      <td>West</td>\n",
              "      <td>102</td>\n",
              "      <td>65</td>\n",
              "      <td>51</td>\n",
              "      <td>74.02</td>\n",
              "      <td>27.99</td>\n",
              "      <td>10</td>\n",
              "      <td>Sunny</td>\n",
              "      <td>1</td>\n",
              "      <td>31.32</td>\n",
              "      <td>Summer</td>\n",
              "    </tr>\n",
              "    <tr>\n",
              "      <th>3</th>\n",
              "      <td>2022-01-01</td>\n",
              "      <td>S001</td>\n",
              "      <td>P0004</td>\n",
              "      <td>Toys</td>\n",
              "      <td>North</td>\n",
              "      <td>469</td>\n",
              "      <td>61</td>\n",
              "      <td>164</td>\n",
              "      <td>62.18</td>\n",
              "      <td>32.72</td>\n",
              "      <td>10</td>\n",
              "      <td>Cloudy</td>\n",
              "      <td>1</td>\n",
              "      <td>34.74</td>\n",
              "      <td>Autumn</td>\n",
              "    </tr>\n",
              "    <tr>\n",
              "      <th>4</th>\n",
              "      <td>2022-01-01</td>\n",
              "      <td>S001</td>\n",
              "      <td>P0005</td>\n",
              "      <td>Electronics</td>\n",
              "      <td>East</td>\n",
              "      <td>166</td>\n",
              "      <td>14</td>\n",
              "      <td>135</td>\n",
              "      <td>9.26</td>\n",
              "      <td>73.64</td>\n",
              "      <td>0</td>\n",
              "      <td>Sunny</td>\n",
              "      <td>0</td>\n",
              "      <td>68.95</td>\n",
              "      <td>Summer</td>\n",
              "    </tr>\n",
              "  </tbody>\n",
              "</table>\n",
              "</div>"
            ],
            "text/plain": [
              "         Date Store ID Product ID     Category Region  Inventory Level  \\\n",
              "0  2022-01-01     S001      P0001    Groceries  North              231   \n",
              "1  2022-01-01     S001      P0002         Toys  South              204   \n",
              "2  2022-01-01     S001      P0003         Toys   West              102   \n",
              "3  2022-01-01     S001      P0004         Toys  North              469   \n",
              "4  2022-01-01     S001      P0005  Electronics   East              166   \n",
              "\n",
              "   Units Sold  Units Ordered  Demand Forecast  Price  Discount  \\\n",
              "0         127             55           135.47  33.50        20   \n",
              "1         150             66           144.04  63.01        20   \n",
              "2          65             51            74.02  27.99        10   \n",
              "3          61            164            62.18  32.72        10   \n",
              "4          14            135             9.26  73.64         0   \n",
              "\n",
              "  Weather Condition  Holiday/Promotion  Competitor Pricing Seasonality  \n",
              "0             Rainy                  0               29.69      Autumn  \n",
              "1             Sunny                  0               66.16      Autumn  \n",
              "2             Sunny                  1               31.32      Summer  \n",
              "3            Cloudy                  1               34.74      Autumn  \n",
              "4             Sunny                  0               68.95      Summer  "
            ]
          },
          "execution_count": 3,
          "metadata": {},
          "output_type": "execute_result"
        }
      ],
      "source": [
        "data.head()"
      ]
    },
    {
      "cell_type": "markdown",
      "id": "5ee1d7e7",
      "metadata": {
        "papermill": {
          "duration": 0.005168,
          "end_time": "2025-01-30T11:56:46.022888",
          "exception": false,
          "start_time": "2025-01-30T11:56:46.017720",
          "status": "completed"
        },
        "tags": [],
        "id": "5ee1d7e7"
      },
      "source": [
        "# Preprocessing"
      ]
    },
    {
      "cell_type": "code",
      "execution_count": null,
      "id": "993cc7ba",
      "metadata": {
        "execution": {
          "iopub.execute_input": "2025-01-30T11:56:46.034277Z",
          "iopub.status.busy": "2025-01-30T11:56:46.033977Z",
          "iopub.status.idle": "2025-01-30T11:56:46.039106Z",
          "shell.execute_reply": "2025-01-30T11:56:46.038170Z"
        },
        "papermill": {
          "duration": 0.01257,
          "end_time": "2025-01-30T11:56:46.040641",
          "exception": false,
          "start_time": "2025-01-30T11:56:46.028071",
          "status": "completed"
        },
        "tags": [],
        "id": "993cc7ba",
        "outputId": "8503086b-91fd-4356-f019-c320d5d32e00"
      },
      "outputs": [
        {
          "data": {
            "text/plain": [
              "(73100, 15)"
            ]
          },
          "execution_count": 4,
          "metadata": {},
          "output_type": "execute_result"
        }
      ],
      "source": [
        "data.shape"
      ]
    },
    {
      "cell_type": "code",
      "execution_count": null,
      "id": "d07218c7",
      "metadata": {
        "execution": {
          "iopub.execute_input": "2025-01-30T11:56:46.052418Z",
          "iopub.status.busy": "2025-01-30T11:56:46.052106Z",
          "iopub.status.idle": "2025-01-30T11:56:46.057351Z",
          "shell.execute_reply": "2025-01-30T11:56:46.056461Z"
        },
        "papermill": {
          "duration": 0.013082,
          "end_time": "2025-01-30T11:56:46.059045",
          "exception": false,
          "start_time": "2025-01-30T11:56:46.045963",
          "status": "completed"
        },
        "tags": [],
        "id": "d07218c7",
        "outputId": "7f383031-eda5-4335-8597-e0252e7680c2"
      },
      "outputs": [
        {
          "data": {
            "text/plain": [
              "Index(['Date', 'Store ID', 'Product ID', 'Category', 'Region',\n",
              "       'Inventory Level', 'Units Sold', 'Units Ordered', 'Demand Forecast',\n",
              "       'Price', 'Discount', 'Weather Condition', 'Holiday/Promotion',\n",
              "       'Competitor Pricing', 'Seasonality'],\n",
              "      dtype='object')"
            ]
          },
          "execution_count": 5,
          "metadata": {},
          "output_type": "execute_result"
        }
      ],
      "source": [
        "data.columns"
      ]
    },
    {
      "cell_type": "code",
      "execution_count": null,
      "id": "ca4287ed",
      "metadata": {
        "execution": {
          "iopub.execute_input": "2025-01-30T11:56:46.071433Z",
          "iopub.status.busy": "2025-01-30T11:56:46.071153Z",
          "iopub.status.idle": "2025-01-30T11:56:46.158763Z",
          "shell.execute_reply": "2025-01-30T11:56:46.157844Z"
        },
        "papermill": {
          "duration": 0.095628,
          "end_time": "2025-01-30T11:56:46.160611",
          "exception": false,
          "start_time": "2025-01-30T11:56:46.064983",
          "status": "completed"
        },
        "tags": [],
        "id": "ca4287ed"
      },
      "outputs": [],
      "source": [
        "#Cambie los valores de cadena en numéricos porque el modelo ML no se puede entrenar con valores de cadena\n",
        "le=LabelEncoder()\n",
        "data['Store ID']=le.fit_transform(data['Store ID'])\n",
        "data['Product ID']=le.fit_transform(data['Product ID'])\n",
        "data['Category']=le.fit_transform(data['Category'])\n",
        "data['Region']=le.fit_transform(data['Region'])\n",
        "data['Weather Condition']=le.fit_transform(data['Weather Condition'])\n",
        "data['Seasonality']=le.fit_transform(data['Seasonality'])\n",
        "#data['Store ID']=le.fit_transform(data['Store ID'])"
      ]
    },
    {
      "cell_type": "code",
      "execution_count": null,
      "id": "c7bbae3f",
      "metadata": {
        "execution": {
          "iopub.execute_input": "2025-01-30T11:56:46.172853Z",
          "iopub.status.busy": "2025-01-30T11:56:46.172579Z",
          "iopub.status.idle": "2025-01-30T11:56:46.186142Z",
          "shell.execute_reply": "2025-01-30T11:56:46.185178Z"
        },
        "papermill": {
          "duration": 0.021303,
          "end_time": "2025-01-30T11:56:46.187778",
          "exception": false,
          "start_time": "2025-01-30T11:56:46.166475",
          "status": "completed"
        },
        "tags": [],
        "id": "c7bbae3f",
        "outputId": "7a3918f9-5466-4624-bb01-5c9057545515"
      },
      "outputs": [
        {
          "data": {
            "text/html": [
              "<div>\n",
              "<style scoped>\n",
              "    .dataframe tbody tr th:only-of-type {\n",
              "        vertical-align: middle;\n",
              "    }\n",
              "\n",
              "    .dataframe tbody tr th {\n",
              "        vertical-align: top;\n",
              "    }\n",
              "\n",
              "    .dataframe thead th {\n",
              "        text-align: right;\n",
              "    }\n",
              "</style>\n",
              "<table border=\"1\" class=\"dataframe\">\n",
              "  <thead>\n",
              "    <tr style=\"text-align: right;\">\n",
              "      <th></th>\n",
              "      <th>Date</th>\n",
              "      <th>Store ID</th>\n",
              "      <th>Product ID</th>\n",
              "      <th>Category</th>\n",
              "      <th>Region</th>\n",
              "      <th>Inventory Level</th>\n",
              "      <th>Units Sold</th>\n",
              "      <th>Units Ordered</th>\n",
              "      <th>Demand Forecast</th>\n",
              "      <th>Price</th>\n",
              "      <th>Discount</th>\n",
              "      <th>Weather Condition</th>\n",
              "      <th>Holiday/Promotion</th>\n",
              "      <th>Competitor Pricing</th>\n",
              "      <th>Seasonality</th>\n",
              "    </tr>\n",
              "  </thead>\n",
              "  <tbody>\n",
              "    <tr>\n",
              "      <th>0</th>\n",
              "      <td>2022-01-01</td>\n",
              "      <td>0</td>\n",
              "      <td>0</td>\n",
              "      <td>3</td>\n",
              "      <td>1</td>\n",
              "      <td>231</td>\n",
              "      <td>127</td>\n",
              "      <td>55</td>\n",
              "      <td>135.47</td>\n",
              "      <td>33.50</td>\n",
              "      <td>20</td>\n",
              "      <td>1</td>\n",
              "      <td>0</td>\n",
              "      <td>29.69</td>\n",
              "      <td>0</td>\n",
              "    </tr>\n",
              "    <tr>\n",
              "      <th>1</th>\n",
              "      <td>2022-01-01</td>\n",
              "      <td>0</td>\n",
              "      <td>1</td>\n",
              "      <td>4</td>\n",
              "      <td>2</td>\n",
              "      <td>204</td>\n",
              "      <td>150</td>\n",
              "      <td>66</td>\n",
              "      <td>144.04</td>\n",
              "      <td>63.01</td>\n",
              "      <td>20</td>\n",
              "      <td>3</td>\n",
              "      <td>0</td>\n",
              "      <td>66.16</td>\n",
              "      <td>0</td>\n",
              "    </tr>\n",
              "    <tr>\n",
              "      <th>2</th>\n",
              "      <td>2022-01-01</td>\n",
              "      <td>0</td>\n",
              "      <td>2</td>\n",
              "      <td>4</td>\n",
              "      <td>3</td>\n",
              "      <td>102</td>\n",
              "      <td>65</td>\n",
              "      <td>51</td>\n",
              "      <td>74.02</td>\n",
              "      <td>27.99</td>\n",
              "      <td>10</td>\n",
              "      <td>3</td>\n",
              "      <td>1</td>\n",
              "      <td>31.32</td>\n",
              "      <td>2</td>\n",
              "    </tr>\n",
              "    <tr>\n",
              "      <th>3</th>\n",
              "      <td>2022-01-01</td>\n",
              "      <td>0</td>\n",
              "      <td>3</td>\n",
              "      <td>4</td>\n",
              "      <td>1</td>\n",
              "      <td>469</td>\n",
              "      <td>61</td>\n",
              "      <td>164</td>\n",
              "      <td>62.18</td>\n",
              "      <td>32.72</td>\n",
              "      <td>10</td>\n",
              "      <td>0</td>\n",
              "      <td>1</td>\n",
              "      <td>34.74</td>\n",
              "      <td>0</td>\n",
              "    </tr>\n",
              "    <tr>\n",
              "      <th>4</th>\n",
              "      <td>2022-01-01</td>\n",
              "      <td>0</td>\n",
              "      <td>4</td>\n",
              "      <td>1</td>\n",
              "      <td>0</td>\n",
              "      <td>166</td>\n",
              "      <td>14</td>\n",
              "      <td>135</td>\n",
              "      <td>9.26</td>\n",
              "      <td>73.64</td>\n",
              "      <td>0</td>\n",
              "      <td>3</td>\n",
              "      <td>0</td>\n",
              "      <td>68.95</td>\n",
              "      <td>2</td>\n",
              "    </tr>\n",
              "  </tbody>\n",
              "</table>\n",
              "</div>"
            ],
            "text/plain": [
              "         Date  Store ID  Product ID  Category  Region  Inventory Level  \\\n",
              "0  2022-01-01         0           0         3       1              231   \n",
              "1  2022-01-01         0           1         4       2              204   \n",
              "2  2022-01-01         0           2         4       3              102   \n",
              "3  2022-01-01         0           3         4       1              469   \n",
              "4  2022-01-01         0           4         1       0              166   \n",
              "\n",
              "   Units Sold  Units Ordered  Demand Forecast  Price  Discount  \\\n",
              "0         127             55           135.47  33.50        20   \n",
              "1         150             66           144.04  63.01        20   \n",
              "2          65             51            74.02  27.99        10   \n",
              "3          61            164            62.18  32.72        10   \n",
              "4          14            135             9.26  73.64         0   \n",
              "\n",
              "   Weather Condition  Holiday/Promotion  Competitor Pricing  Seasonality  \n",
              "0                  1                  0               29.69            0  \n",
              "1                  3                  0               66.16            0  \n",
              "2                  3                  1               31.32            2  \n",
              "3                  0                  1               34.74            0  \n",
              "4                  3                  0               68.95            2  "
            ]
          },
          "execution_count": 7,
          "metadata": {},
          "output_type": "execute_result"
        }
      ],
      "source": [
        "data.head()"
      ]
    },
    {
      "cell_type": "code",
      "execution_count": null,
      "id": "1c5fc706",
      "metadata": {
        "execution": {
          "iopub.execute_input": "2025-01-30T11:56:46.200577Z",
          "iopub.status.busy": "2025-01-30T11:56:46.200245Z",
          "iopub.status.idle": "2025-01-30T11:56:46.214418Z",
          "shell.execute_reply": "2025-01-30T11:56:46.213470Z"
        },
        "papermill": {
          "duration": 0.022039,
          "end_time": "2025-01-30T11:56:46.215855",
          "exception": false,
          "start_time": "2025-01-30T11:56:46.193816",
          "status": "completed"
        },
        "tags": [],
        "id": "1c5fc706",
        "outputId": "ece9eeb3-0b13-4d4e-9cbe-50c122e9797c"
      },
      "outputs": [
        {
          "data": {
            "text/plain": [
              "Date                  0\n",
              "Store ID              0\n",
              "Product ID            0\n",
              "Category              0\n",
              "Region                0\n",
              "Inventory Level       0\n",
              "Units Sold            0\n",
              "Units Ordered         0\n",
              "Demand Forecast       0\n",
              "Price                 0\n",
              "Discount              0\n",
              "Weather Condition     0\n",
              "Holiday/Promotion     0\n",
              "Competitor Pricing    0\n",
              "Seasonality           0\n",
              "dtype: int64"
            ]
          },
          "execution_count": 8,
          "metadata": {},
          "output_type": "execute_result"
        }
      ],
      "source": [
        "data.isnull().sum()"
      ]
    },
    {
      "cell_type": "code",
      "execution_count": null,
      "id": "31c32668",
      "metadata": {
        "execution": {
          "iopub.execute_input": "2025-01-30T11:56:46.228508Z",
          "iopub.status.busy": "2025-01-30T11:56:46.228201Z",
          "iopub.status.idle": "2025-01-30T11:56:46.255577Z",
          "shell.execute_reply": "2025-01-30T11:56:46.254461Z"
        },
        "papermill": {
          "duration": 0.03514,
          "end_time": "2025-01-30T11:56:46.257056",
          "exception": false,
          "start_time": "2025-01-30T11:56:46.221916",
          "status": "completed"
        },
        "tags": [],
        "id": "31c32668",
        "outputId": "32561ce0-062d-47aa-9ac9-5dd75dde8685"
      },
      "outputs": [
        {
          "name": "stdout",
          "output_type": "stream",
          "text": [
            "<class 'pandas.core.frame.DataFrame'>\n",
            "RangeIndex: 73100 entries, 0 to 73099\n",
            "Data columns (total 15 columns):\n",
            " #   Column              Non-Null Count  Dtype  \n",
            "---  ------              --------------  -----  \n",
            " 0   Date                73100 non-null  object \n",
            " 1   Store ID            73100 non-null  int64  \n",
            " 2   Product ID          73100 non-null  int64  \n",
            " 3   Category            73100 non-null  int64  \n",
            " 4   Region              73100 non-null  int64  \n",
            " 5   Inventory Level     73100 non-null  int64  \n",
            " 6   Units Sold          73100 non-null  int64  \n",
            " 7   Units Ordered       73100 non-null  int64  \n",
            " 8   Demand Forecast     73100 non-null  float64\n",
            " 9   Price               73100 non-null  float64\n",
            " 10  Discount            73100 non-null  int64  \n",
            " 11  Weather Condition   73100 non-null  int64  \n",
            " 12  Holiday/Promotion   73100 non-null  int64  \n",
            " 13  Competitor Pricing  73100 non-null  float64\n",
            " 14  Seasonality         73100 non-null  int64  \n",
            "dtypes: float64(3), int64(11), object(1)\n",
            "memory usage: 8.4+ MB\n"
          ]
        }
      ],
      "source": [
        "data.info()"
      ]
    },
    {
      "cell_type": "code",
      "execution_count": null,
      "id": "1737737f",
      "metadata": {
        "execution": {
          "iopub.execute_input": "2025-01-30T11:56:46.270760Z",
          "iopub.status.busy": "2025-01-30T11:56:46.270449Z",
          "iopub.status.idle": "2025-01-30T11:56:46.346649Z",
          "shell.execute_reply": "2025-01-30T11:56:46.345640Z"
        },
        "papermill": {
          "duration": 0.084743,
          "end_time": "2025-01-30T11:56:46.348192",
          "exception": false,
          "start_time": "2025-01-30T11:56:46.263449",
          "status": "completed"
        },
        "tags": [],
        "id": "1737737f",
        "outputId": "77d96e22-2602-4de4-e46a-d0449e5a0476"
      },
      "outputs": [
        {
          "data": {
            "text/html": [
              "<div>\n",
              "<style scoped>\n",
              "    .dataframe tbody tr th:only-of-type {\n",
              "        vertical-align: middle;\n",
              "    }\n",
              "\n",
              "    .dataframe tbody tr th {\n",
              "        vertical-align: top;\n",
              "    }\n",
              "\n",
              "    .dataframe thead th {\n",
              "        text-align: right;\n",
              "    }\n",
              "</style>\n",
              "<table border=\"1\" class=\"dataframe\">\n",
              "  <thead>\n",
              "    <tr style=\"text-align: right;\">\n",
              "      <th></th>\n",
              "      <th>Store ID</th>\n",
              "      <th>Product ID</th>\n",
              "      <th>Category</th>\n",
              "      <th>Region</th>\n",
              "      <th>Inventory Level</th>\n",
              "      <th>Units Sold</th>\n",
              "      <th>Units Ordered</th>\n",
              "      <th>Demand Forecast</th>\n",
              "      <th>Price</th>\n",
              "      <th>Discount</th>\n",
              "      <th>Weather Condition</th>\n",
              "      <th>Holiday/Promotion</th>\n",
              "      <th>Competitor Pricing</th>\n",
              "      <th>Seasonality</th>\n",
              "    </tr>\n",
              "  </thead>\n",
              "  <tbody>\n",
              "    <tr>\n",
              "      <th>count</th>\n",
              "      <td>73100.000000</td>\n",
              "      <td>73100.000000</td>\n",
              "      <td>73100.000000</td>\n",
              "      <td>73100.000000</td>\n",
              "      <td>73100.000000</td>\n",
              "      <td>73100.000000</td>\n",
              "      <td>73100.000000</td>\n",
              "      <td>73100.000000</td>\n",
              "      <td>73100.000000</td>\n",
              "      <td>73100.000000</td>\n",
              "      <td>73100.000000</td>\n",
              "      <td>73100.000000</td>\n",
              "      <td>73100.000000</td>\n",
              "      <td>73100.000000</td>\n",
              "    </tr>\n",
              "    <tr>\n",
              "      <th>mean</th>\n",
              "      <td>2.000000</td>\n",
              "      <td>9.500000</td>\n",
              "      <td>2.001696</td>\n",
              "      <td>1.497948</td>\n",
              "      <td>274.469877</td>\n",
              "      <td>136.464870</td>\n",
              "      <td>110.004473</td>\n",
              "      <td>141.494720</td>\n",
              "      <td>55.135108</td>\n",
              "      <td>10.009508</td>\n",
              "      <td>1.500575</td>\n",
              "      <td>0.497305</td>\n",
              "      <td>55.146077</td>\n",
              "      <td>1.501806</td>\n",
              "    </tr>\n",
              "    <tr>\n",
              "      <th>std</th>\n",
              "      <td>1.414223</td>\n",
              "      <td>5.766321</td>\n",
              "      <td>1.414261</td>\n",
              "      <td>1.118346</td>\n",
              "      <td>129.949514</td>\n",
              "      <td>108.919406</td>\n",
              "      <td>52.277448</td>\n",
              "      <td>109.254076</td>\n",
              "      <td>26.021945</td>\n",
              "      <td>7.083746</td>\n",
              "      <td>1.118041</td>\n",
              "      <td>0.499996</td>\n",
              "      <td>26.191408</td>\n",
              "      <td>1.117159</td>\n",
              "    </tr>\n",
              "    <tr>\n",
              "      <th>min</th>\n",
              "      <td>0.000000</td>\n",
              "      <td>0.000000</td>\n",
              "      <td>0.000000</td>\n",
              "      <td>0.000000</td>\n",
              "      <td>50.000000</td>\n",
              "      <td>0.000000</td>\n",
              "      <td>20.000000</td>\n",
              "      <td>-9.990000</td>\n",
              "      <td>10.000000</td>\n",
              "      <td>0.000000</td>\n",
              "      <td>0.000000</td>\n",
              "      <td>0.000000</td>\n",
              "      <td>5.030000</td>\n",
              "      <td>0.000000</td>\n",
              "    </tr>\n",
              "    <tr>\n",
              "      <th>25%</th>\n",
              "      <td>1.000000</td>\n",
              "      <td>4.750000</td>\n",
              "      <td>1.000000</td>\n",
              "      <td>0.000000</td>\n",
              "      <td>162.000000</td>\n",
              "      <td>49.000000</td>\n",
              "      <td>65.000000</td>\n",
              "      <td>53.670000</td>\n",
              "      <td>32.650000</td>\n",
              "      <td>5.000000</td>\n",
              "      <td>1.000000</td>\n",
              "      <td>0.000000</td>\n",
              "      <td>32.680000</td>\n",
              "      <td>1.000000</td>\n",
              "    </tr>\n",
              "    <tr>\n",
              "      <th>50%</th>\n",
              "      <td>2.000000</td>\n",
              "      <td>9.500000</td>\n",
              "      <td>2.000000</td>\n",
              "      <td>1.000000</td>\n",
              "      <td>273.000000</td>\n",
              "      <td>107.000000</td>\n",
              "      <td>110.000000</td>\n",
              "      <td>113.015000</td>\n",
              "      <td>55.050000</td>\n",
              "      <td>10.000000</td>\n",
              "      <td>2.000000</td>\n",
              "      <td>0.000000</td>\n",
              "      <td>55.010000</td>\n",
              "      <td>2.000000</td>\n",
              "    </tr>\n",
              "    <tr>\n",
              "      <th>75%</th>\n",
              "      <td>3.000000</td>\n",
              "      <td>14.250000</td>\n",
              "      <td>3.000000</td>\n",
              "      <td>2.000000</td>\n",
              "      <td>387.000000</td>\n",
              "      <td>203.000000</td>\n",
              "      <td>155.000000</td>\n",
              "      <td>208.052500</td>\n",
              "      <td>77.860000</td>\n",
              "      <td>15.000000</td>\n",
              "      <td>3.000000</td>\n",
              "      <td>1.000000</td>\n",
              "      <td>77.820000</td>\n",
              "      <td>3.000000</td>\n",
              "    </tr>\n",
              "    <tr>\n",
              "      <th>max</th>\n",
              "      <td>4.000000</td>\n",
              "      <td>19.000000</td>\n",
              "      <td>4.000000</td>\n",
              "      <td>3.000000</td>\n",
              "      <td>500.000000</td>\n",
              "      <td>499.000000</td>\n",
              "      <td>200.000000</td>\n",
              "      <td>518.550000</td>\n",
              "      <td>100.000000</td>\n",
              "      <td>20.000000</td>\n",
              "      <td>3.000000</td>\n",
              "      <td>1.000000</td>\n",
              "      <td>104.940000</td>\n",
              "      <td>3.000000</td>\n",
              "    </tr>\n",
              "  </tbody>\n",
              "</table>\n",
              "</div>"
            ],
            "text/plain": [
              "           Store ID    Product ID      Category        Region  \\\n",
              "count  73100.000000  73100.000000  73100.000000  73100.000000   \n",
              "mean       2.000000      9.500000      2.001696      1.497948   \n",
              "std        1.414223      5.766321      1.414261      1.118346   \n",
              "min        0.000000      0.000000      0.000000      0.000000   \n",
              "25%        1.000000      4.750000      1.000000      0.000000   \n",
              "50%        2.000000      9.500000      2.000000      1.000000   \n",
              "75%        3.000000     14.250000      3.000000      2.000000   \n",
              "max        4.000000     19.000000      4.000000      3.000000   \n",
              "\n",
              "       Inventory Level    Units Sold  Units Ordered  Demand Forecast  \\\n",
              "count     73100.000000  73100.000000   73100.000000     73100.000000   \n",
              "mean        274.469877    136.464870     110.004473       141.494720   \n",
              "std         129.949514    108.919406      52.277448       109.254076   \n",
              "min          50.000000      0.000000      20.000000        -9.990000   \n",
              "25%         162.000000     49.000000      65.000000        53.670000   \n",
              "50%         273.000000    107.000000     110.000000       113.015000   \n",
              "75%         387.000000    203.000000     155.000000       208.052500   \n",
              "max         500.000000    499.000000     200.000000       518.550000   \n",
              "\n",
              "              Price      Discount  Weather Condition  Holiday/Promotion  \\\n",
              "count  73100.000000  73100.000000       73100.000000       73100.000000   \n",
              "mean      55.135108     10.009508           1.500575           0.497305   \n",
              "std       26.021945      7.083746           1.118041           0.499996   \n",
              "min       10.000000      0.000000           0.000000           0.000000   \n",
              "25%       32.650000      5.000000           1.000000           0.000000   \n",
              "50%       55.050000     10.000000           2.000000           0.000000   \n",
              "75%       77.860000     15.000000           3.000000           1.000000   \n",
              "max      100.000000     20.000000           3.000000           1.000000   \n",
              "\n",
              "       Competitor Pricing   Seasonality  \n",
              "count        73100.000000  73100.000000  \n",
              "mean            55.146077      1.501806  \n",
              "std             26.191408      1.117159  \n",
              "min              5.030000      0.000000  \n",
              "25%             32.680000      1.000000  \n",
              "50%             55.010000      2.000000  \n",
              "75%             77.820000      3.000000  \n",
              "max            104.940000      3.000000  "
            ]
          },
          "execution_count": 10,
          "metadata": {},
          "output_type": "execute_result"
        }
      ],
      "source": [
        "data.describe()"
      ]
    },
    {
      "cell_type": "code",
      "execution_count": null,
      "id": "0b04723c",
      "metadata": {
        "execution": {
          "iopub.execute_input": "2025-01-30T11:56:46.362075Z",
          "iopub.status.busy": "2025-01-30T11:56:46.361793Z",
          "iopub.status.idle": "2025-01-30T11:56:46.388300Z",
          "shell.execute_reply": "2025-01-30T11:56:46.387531Z"
        },
        "papermill": {
          "duration": 0.034834,
          "end_time": "2025-01-30T11:56:46.389649",
          "exception": false,
          "start_time": "2025-01-30T11:56:46.354815",
          "status": "completed"
        },
        "tags": [],
        "id": "0b04723c",
        "outputId": "d410a171-6e46-4307-f05c-3d01e2315fb6"
      },
      "outputs": [
        {
          "data": {
            "text/plain": [
              "0"
            ]
          },
          "execution_count": 11,
          "metadata": {},
          "output_type": "execute_result"
        }
      ],
      "source": [
        "data.duplicated().sum()"
      ]
    },
    {
      "cell_type": "code",
      "execution_count": null,
      "id": "fce6b9f1",
      "metadata": {
        "execution": {
          "iopub.execute_input": "2025-01-30T11:56:46.402775Z",
          "iopub.status.busy": "2025-01-30T11:56:46.402510Z",
          "iopub.status.idle": "2025-01-30T11:56:46.409803Z",
          "shell.execute_reply": "2025-01-30T11:56:46.409064Z"
        },
        "papermill": {
          "duration": 0.015545,
          "end_time": "2025-01-30T11:56:46.411230",
          "exception": false,
          "start_time": "2025-01-30T11:56:46.395685",
          "status": "completed"
        },
        "tags": [],
        "id": "fce6b9f1"
      },
      "outputs": [],
      "source": [
        "data.drop(columns=['Store ID','Product ID','Date'],axis=1,inplace=True)"
      ]
    },
    {
      "cell_type": "markdown",
      "id": "8f5a468c",
      "metadata": {
        "papermill": {
          "duration": 0.006043,
          "end_time": "2025-01-30T11:56:46.423271",
          "exception": false,
          "start_time": "2025-01-30T11:56:46.417228",
          "status": "completed"
        },
        "tags": [],
        "id": "8f5a468c"
      },
      "source": [
        "# EDA"
      ]
    },
    {
      "cell_type": "code",
      "execution_count": null,
      "id": "bc8f1e55",
      "metadata": {
        "papermill": {
          "duration": 0.005984,
          "end_time": "2025-01-30T11:56:46.435796",
          "exception": false,
          "start_time": "2025-01-30T11:56:46.429812",
          "status": "completed"
        },
        "tags": [],
        "id": "bc8f1e55"
      },
      "outputs": [],
      "source": []
    },
    {
      "cell_type": "code",
      "execution_count": null,
      "id": "77df7152",
      "metadata": {
        "execution": {
          "iopub.execute_input": "2025-01-30T11:56:46.449236Z",
          "iopub.status.busy": "2025-01-30T11:56:46.448905Z",
          "iopub.status.idle": "2025-01-30T11:56:46.456904Z",
          "shell.execute_reply": "2025-01-30T11:56:46.456206Z"
        },
        "papermill": {
          "duration": 0.016372,
          "end_time": "2025-01-30T11:56:46.458331",
          "exception": false,
          "start_time": "2025-01-30T11:56:46.441959",
          "status": "completed"
        },
        "tags": [],
        "id": "77df7152",
        "outputId": "ca3b3b0b-9863-427e-f762-8fb053d333f5"
      },
      "outputs": [
        {
          "data": {
            "text/plain": [
              "Category\n",
              "2    14699\n",
              "4    14643\n",
              "0    14626\n",
              "3    14611\n",
              "1    14521\n",
              "Name: count, dtype: int64"
            ]
          },
          "execution_count": 13,
          "metadata": {},
          "output_type": "execute_result"
        }
      ],
      "source": [
        "data['Category'].value_counts()"
      ]
    },
    {
      "cell_type": "code",
      "execution_count": null,
      "id": "510e0af0",
      "metadata": {
        "execution": {
          "iopub.execute_input": "2025-01-30T11:56:46.471816Z",
          "iopub.status.busy": "2025-01-30T11:56:46.471542Z",
          "iopub.status.idle": "2025-01-30T11:56:47.254369Z",
          "shell.execute_reply": "2025-01-30T11:56:47.253475Z"
        },
        "papermill": {
          "duration": 0.793795,
          "end_time": "2025-01-30T11:56:47.258315",
          "exception": false,
          "start_time": "2025-01-30T11:56:46.464520",
          "status": "completed"
        },
        "tags": [],
        "id": "510e0af0",
        "outputId": "9e9eaabe-e92a-4197-ddf9-667716e53551"
      },
      "outputs": [
        {
          "data": {
            "image/png": "[encoded data removed]",
            "text/plain": [
              "<Figure size 1000x800 with 2 Axes>"
            ]
          },
          "metadata": {},
          "output_type": "display_data"
        }
      ],
      "source": [
        "corr=data.corr()\n",
        "plt.figure(figsize=(10,8))\n",
        "sns.heatmap(corr,annot=True)\n",
        "plt.show()"
      ]
    },
    {
      "cell_type": "code",
      "execution_count": null,
      "id": "1c283d2b",
      "metadata": {
        "execution": {
          "iopub.execute_input": "2025-01-30T11:56:47.281474Z",
          "iopub.status.busy": "2025-01-30T11:56:47.281018Z",
          "iopub.status.idle": "2025-01-30T11:56:47.289829Z",
          "shell.execute_reply": "2025-01-30T11:56:47.288704Z"
        },
        "papermill": {
          "duration": 0.023612,
          "end_time": "2025-01-30T11:56:47.292265",
          "exception": false,
          "start_time": "2025-01-30T11:56:47.268653",
          "status": "completed"
        },
        "tags": [],
        "id": "1c283d2b"
      },
      "outputs": [],
      "source": [
        "X=data.drop('Demand Forecast',axis=1)\n",
        "y=data['Demand Forecast']"
      ]
    },
    {
      "cell_type": "markdown",
      "id": "52f9fedb",
      "metadata": {
        "papermill": {
          "duration": 0.014355,
          "end_time": "2025-01-30T11:56:47.316607",
          "exception": false,
          "start_time": "2025-01-30T11:56:47.302252",
          "status": "completed"
        },
        "tags": [],
        "id": "52f9fedb"
      },
      "source": [
        "# MOdel selection"
      ]
    },
    {
      "cell_type": "code",
      "execution_count": null,
      "id": "487b71fd",
      "metadata": {
        "execution": {
          "iopub.execute_input": "2025-01-30T11:56:47.335632Z",
          "iopub.status.busy": "2025-01-30T11:56:47.335279Z",
          "iopub.status.idle": "2025-01-30T11:56:47.356229Z",
          "shell.execute_reply": "2025-01-30T11:56:47.355423Z"
        },
        "papermill": {
          "duration": 0.032311,
          "end_time": "2025-01-30T11:56:47.357975",
          "exception": false,
          "start_time": "2025-01-30T11:56:47.325664",
          "status": "completed"
        },
        "tags": [],
        "id": "487b71fd"
      },
      "outputs": [],
      "source": [
        "X_train,X_test,y_train,y_test=train_test_split(X,y,test_size=0.2,random_state=42)"
      ]
    },
    {
      "cell_type": "markdown",
      "id": "1577747b",
      "metadata": {
        "papermill": {
          "duration": 0.008608,
          "end_time": "2025-01-30T11:56:47.375678",
          "exception": false,
          "start_time": "2025-01-30T11:56:47.367070",
          "status": "completed"
        },
        "tags": [],
        "id": "1577747b"
      },
      "source": [
        "# Feature Scaling"
      ]
    },
    {
      "cell_type": "code",
      "execution_count": null,
      "id": "2fe98626",
      "metadata": {
        "execution": {
          "iopub.execute_input": "2025-01-30T11:56:47.394747Z",
          "iopub.status.busy": "2025-01-30T11:56:47.394352Z",
          "iopub.status.idle": "2025-01-30T11:56:47.452648Z",
          "shell.execute_reply": "2025-01-30T11:56:47.451171Z"
        },
        "papermill": {
          "duration": 0.070781,
          "end_time": "2025-01-30T11:56:47.455234",
          "exception": false,
          "start_time": "2025-01-30T11:56:47.384453",
          "status": "completed"
        },
        "tags": [],
        "id": "2fe98626"
      },
      "outputs": [],
      "source": [
        "scaler=StandardScaler()\n",
        "X_train=scaler.fit_transform(X_train)\n",
        "X_test=scaler.fit_transform(X_test)"
      ]
    },
    {
      "cell_type": "markdown",
      "id": "cbdb6ce6",
      "metadata": {
        "papermill": {
          "duration": 0.013553,
          "end_time": "2025-01-30T11:56:47.484854",
          "exception": false,
          "start_time": "2025-01-30T11:56:47.471301",
          "status": "completed"
        },
        "tags": [],
        "id": "cbdb6ce6"
      },
      "source": [
        "# Modeling\n",
        "# LinearRegression"
      ]
    },
    {
      "cell_type": "code",
      "execution_count": null,
      "id": "3451f4eb",
      "metadata": {
        "execution": {
          "iopub.execute_input": "2025-01-30T11:56:47.506649Z",
          "iopub.status.busy": "2025-01-30T11:56:47.506292Z",
          "iopub.status.idle": "2025-01-30T11:56:47.589835Z",
          "shell.execute_reply": "2025-01-30T11:56:47.588777Z"
        },
        "papermill": {
          "duration": 0.094934,
          "end_time": "2025-01-30T11:56:47.591490",
          "exception": false,
          "start_time": "2025-01-30T11:56:47.496556",
          "status": "completed"
        },
        "tags": [],
        "id": "3451f4eb",
        "outputId": "33cd7975-6c1f-4c7c-a360-c4325c0a7477"
      },
      "outputs": [
        {
          "data": {
            "text/html": [
              "<style>#sk-container-id-1 {color: black;background-color: white;}#sk-container-id-1 pre{padding: 0;}#sk-container-id-1 div.sk-toggleable {background-color: white;}#sk-container-id-1 label.sk-toggleable__label {cursor: pointer;display: block;width: 100%;margin-bottom: 0;padding: 0.3em;box-sizing: border-box;text-align: center;}#sk-container-id-1 label.sk-toggleable__label-arrow:before {content: \"▸\";float: left;margin-right: 0.25em;color: #696969;}#sk-container-id-1 label.sk-toggleable__label-arrow:hover:before {color: black;}#sk-container-id-1 div.sk-estimator:hover label.sk-toggleable__label-arrow:before {color: black;}#sk-container-id-1 div.sk-toggleable__content {max-height: 0;max-width: 0;overflow: hidden;text-align: left;background-color: #f0f8ff;}#sk-container-id-1 div.sk-toggleable__content pre {margin: 0.2em;color: black;border-radius: 0.25em;background-color: #f0f8ff;}#sk-container-id-1 input.sk-toggleable__control:checked~div.sk-toggleable__content {max-height: 200px;max-width: 100%;overflow: auto;}#sk-container-id-1 input.sk-toggleable__control:checked~label.sk-toggleable__label-arrow:before {content: \"▾\";}#sk-container-id-1 div.sk-estimator input.sk-toggleable__control:checked~label.sk-toggleable__label {background-color: #d4ebff;}#sk-container-id-1 div.sk-label input.sk-toggleable__control:checked~label.sk-toggleable__label {background-color: #d4ebff;}#sk-container-id-1 input.sk-hidden--visually {border: 0;clip: rect(1px 1px 1px 1px);clip: rect(1px, 1px, 1px, 1px);height: 1px;margin: -1px;overflow: hidden;padding: 0;position: absolute;width: 1px;}#sk-container-id-1 div.sk-estimator {font-family: monospace;background-color: #f0f8ff;border: 1px dotted black;border-radius: 0.25em;box-sizing: border-box;margin-bottom: 0.5em;}#sk-container-id-1 div.sk-estimator:hover {background-color: #d4ebff;}#sk-container-id-1 div.sk-parallel-item::after {content: \"\";width: 100%;border-bottom: 1px solid gray;flex-grow: 1;}#sk-container-id-1 div.sk-label:hover label.sk-toggleable__label {background-color: #d4ebff;}#sk-container-id-1 div.sk-serial::before {content: \"\";position: absolute;border-left: 1px solid gray;box-sizing: border-box;top: 0;bottom: 0;left: 50%;z-index: 0;}#sk-container-id-1 div.sk-serial {display: flex;flex-direction: column;align-items: center;background-color: white;padding-right: 0.2em;padding-left: 0.2em;position: relative;}#sk-container-id-1 div.sk-item {position: relative;z-index: 1;}#sk-container-id-1 div.sk-parallel {display: flex;align-items: stretch;justify-content: center;background-color: white;position: relative;}#sk-container-id-1 div.sk-item::before, #sk-container-id-1 div.sk-parallel-item::before {content: \"\";position: absolute;border-left: 1px solid gray;box-sizing: border-box;top: 0;bottom: 0;left: 50%;z-index: -1;}#sk-container-id-1 div.sk-parallel-item {display: flex;flex-direction: column;z-index: 1;position: relative;background-color: white;}#sk-container-id-1 div.sk-parallel-item:first-child::after {align-self: flex-end;width: 50%;}#sk-container-id-1 div.sk-parallel-item:last-child::after {align-self: flex-start;width: 50%;}#sk-container-id-1 div.sk-parallel-item:only-child::after {width: 0;}#sk-container-id-1 div.sk-dashed-wrapped {border: 1px dashed gray;margin: 0 0.4em 0.5em 0.4em;box-sizing: border-box;padding-bottom: 0.4em;background-color: white;}#sk-container-id-1 div.sk-label label {font-family: monospace;font-weight: bold;display: inline-block;line-height: 1.2em;}#sk-container-id-1 div.sk-label-container {text-align: center;}#sk-container-id-1 div.sk-container {/* jupyter's `normalize.less` sets `[hidden] { display: none; }` but bootstrap.min.css set `[hidden] { display: none !important; }` so we also need the `!important` here to be able to override the default hidden behavior on the sphinx rendered scikit-learn.org. See: https://github.com/scikit-learn/scikit-learn/issues/21755 */display: inline-block !important;position: relative;}#sk-container-id-1 div.sk-text-repr-fallback {display: none;}</style><div id=\"sk-container-id-1\" class=\"sk-top-container\"><div class=\"sk-text-repr-fallback\"><pre>LinearRegression()</pre><b>In a Jupyter environment, please rerun this cell to show the HTML representation or trust the notebook. <br />On GitHub, the HTML representation is unable to render, please try loading this page with nbviewer.org.</b></div><div class=\"sk-container\" hidden><div class=\"sk-item\"><div class=\"sk-estimator sk-toggleable\"><input class=\"sk-toggleable__control sk-hidden--visually\" id=\"sk-estimator-id-1\" type=\"checkbox\" checked><label for=\"sk-estimator-id-1\" class=\"sk-toggleable__label sk-toggleable__label-arrow\">LinearRegression</label><div class=\"sk-toggleable__content\"><pre>LinearRegression()</pre></div></div></div></div></div>"
            ],
            "text/plain": [
              "LinearRegression()"
            ]
          },
          "execution_count": 18,
          "metadata": {},
          "output_type": "execute_result"
        }
      ],
      "source": [
        "model=LinearRegression()\n",
        "model.fit(X_train,y_train)"
      ]
    },
    {
      "cell_type": "code",
      "execution_count": null,
      "id": "05fb8153",
      "metadata": {
        "execution": {
          "iopub.execute_input": "2025-01-30T11:56:47.611452Z",
          "iopub.status.busy": "2025-01-30T11:56:47.611109Z",
          "iopub.status.idle": "2025-01-30T11:56:47.620215Z",
          "shell.execute_reply": "2025-01-30T11:56:47.619376Z"
        },
        "papermill": {
          "duration": 0.020276,
          "end_time": "2025-01-30T11:56:47.621610",
          "exception": false,
          "start_time": "2025-01-30T11:56:47.601334",
          "status": "completed"
        },
        "tags": [],
        "id": "05fb8153",
        "outputId": "e8670ca3-7603-45e6-af3d-dbd21a2c04b1"
      },
      "outputs": [
        {
          "data": {
            "text/plain": [
              "0.9937141375448907"
            ]
          },
          "execution_count": 19,
          "metadata": {},
          "output_type": "execute_result"
        }
      ],
      "source": [
        "model.score(X_train,y_train)"
      ]
    },
    {
      "cell_type": "code",
      "execution_count": null,
      "id": "a6e6a2a0",
      "metadata": {
        "execution": {
          "iopub.execute_input": "2025-01-30T11:56:47.640864Z",
          "iopub.status.busy": "2025-01-30T11:56:47.640575Z",
          "iopub.status.idle": "2025-01-30T11:56:47.647053Z",
          "shell.execute_reply": "2025-01-30T11:56:47.646136Z"
        },
        "papermill": {
          "duration": 0.018111,
          "end_time": "2025-01-30T11:56:47.648873",
          "exception": false,
          "start_time": "2025-01-30T11:56:47.630762",
          "status": "completed"
        },
        "tags": [],
        "id": "a6e6a2a0",
        "outputId": "39422566-39db-4aa8-d9e8-a57bf83a73cf"
      },
      "outputs": [
        {
          "data": {
            "text/plain": [
              "0.9935590605841453"
            ]
          },
          "execution_count": 20,
          "metadata": {},
          "output_type": "execute_result"
        }
      ],
      "source": [
        "model.score(X_test,y_test)"
      ]
    },
    {
      "cell_type": "code",
      "execution_count": null,
      "id": "a6981898",
      "metadata": {
        "execution": {
          "iopub.execute_input": "2025-01-30T11:56:47.672589Z",
          "iopub.status.busy": "2025-01-30T11:56:47.672225Z",
          "iopub.status.idle": "2025-01-30T11:56:47.676459Z",
          "shell.execute_reply": "2025-01-30T11:56:47.675729Z"
        },
        "papermill": {
          "duration": 0.016409,
          "end_time": "2025-01-30T11:56:47.678050",
          "exception": false,
          "start_time": "2025-01-30T11:56:47.661641",
          "status": "completed"
        },
        "tags": [],
        "id": "a6981898"
      },
      "outputs": [],
      "source": [
        "y_pred=model.predict(X_test)"
      ]
    },
    {
      "cell_type": "code",
      "execution_count": null,
      "id": "8addba5d",
      "metadata": {
        "execution": {
          "iopub.execute_input": "2025-01-30T11:56:47.698637Z",
          "iopub.status.busy": "2025-01-30T11:56:47.698289Z",
          "iopub.status.idle": "2025-01-30T11:56:47.706957Z",
          "shell.execute_reply": "2025-01-30T11:56:47.705801Z"
        },
        "papermill": {
          "duration": 0.020757,
          "end_time": "2025-01-30T11:56:47.708524",
          "exception": false,
          "start_time": "2025-01-30T11:56:47.687767",
          "status": "completed"
        },
        "tags": [],
        "id": "8addba5d",
        "outputId": "71ebdbe8-af08-4541-90af-b40076a58b07"
      },
      "outputs": [
        {
          "name": "stdout",
          "output_type": "stream",
          "text": [
            "r2_score: 0.9935288113141945\n",
            "mean_square_error: 76.77838996844328\n",
            "mean_absolute_error: 7.54381661592535\n"
          ]
        }
      ],
      "source": [
        "print('r2_score:',r2_score(y_pred,y_test))\n",
        "print('mean_square_error:',mean_squared_error(y_pred,y_test))\n",
        "print('mean_absolute_error:',mean_absolute_error(y_pred,y_test))"
      ]
    }
  ],
  "metadata": {
    "kaggle": {
      "accelerator": "none",
      "dataSources": [
        {
          "datasetId": 6157172,
          "sourceId": 10002792,
          "sourceType": "datasetVersion"
        }
      ],
      "dockerImageVersionId": 30839,
      "isGpuEnabled": false,
      "isInternetEnabled": true,
      "language": "python",
      "sourceType": "notebook"
    },
    "kernelspec": {
      "display_name": "Python 3",
      "language": "python",
      "name": "python3"
    },
    "language_info": {
      "codemirror_mode": {
        "name": "ipython",
        "version": 3
      },
      "file_extension": ".py",
      "mimetype": "text/x-python",
      "name": "python",
      "nbconvert_exporter": "python",
      "pygments_lexer": "ipython3",
      "version": "3.10.12"
    },
    "papermill": {
      "default_parameters": {},
      "duration": 8.4002,
      "end_time": "2025-01-30T11:56:48.337641",
      "environment_variables": {},
      "exception": null,
      "input_path": "__notebook__.ipynb",
      "output_path": "__notebook__.ipynb",
      "parameters": {},
      "start_time": "2025-01-30T11:56:39.937441",
      "version": "2.6.0"
    },
    "colab": {
      "provenance": []
    }
  },
  "nbformat": 4,
  "nbformat_minor": 5
}